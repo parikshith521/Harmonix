{
 "cells": [
  {
   "cell_type": "markdown",
   "metadata": {},
   "source": [
    "# Spotify Mood Based Song Retreiver"
   ]
  },
  {
   "cell_type": "markdown",
   "metadata": {},
   "source": [
    "## 1. Data Extraction and Processing"
   ]
  },
  {
   "cell_type": "code",
   "execution_count": 176,
   "metadata": {},
   "outputs": [],
   "source": [
    "# import requests as rq\n",
    "# import bs4"
   ]
  },
  {
   "cell_type": "code",
   "execution_count": 177,
   "metadata": {},
   "outputs": [],
   "source": [
    "# Extract data from the link - not being used currently\n",
    "# def data_extractor(link):\n",
    "#     print(\"Retrieving body text and title text from:\", link)\n",
    "#     res = rq.get(link)\n",
    "#     soup = bs4.BeautifulSoup(res.text, 'lxml')\n",
    "#     body = soup.find('body').text\n",
    "#     title = soup.find('title').text\n",
    "#     body = body.replace('\\n', ' ')[:4000] #Change this to change the amount of text extracted\n",
    "#     return body, title"
   ]
  },
  {
   "cell_type": "code",
   "execution_count": 178,
   "metadata": {},
   "outputs": [],
   "source": [
    "# Defining the data extractor function\n",
    "from langchain_community.document_loaders import WebBaseLoader\n",
    "def data_extractor(link):\n",
    "    loader = WebBaseLoader(link)\n",
    "    docs = loader.load()\n",
    "    return docs"
   ]
  },
  {
   "cell_type": "code",
   "execution_count": 179,
   "metadata": {},
   "outputs": [],
   "source": [
    "# Define a sentiment analysis function\n",
    "def sentiment(links):\n",
    "    summ_data = []\n",
    "    # Define the llm model and the chain\n",
    "    llm = ChatGoogleGenerativeAI(temperature=0, model=\"gemini-pro\")\n",
    "    chain = load_summarize_chain(llm, chain_type=\"stuff\")\n",
    "    # Extract data from each of the links and summarise it\n",
    "    with open(\"summarised_text.txt\", \"w\") as f:\n",
    "        for link in links:\n",
    "            docs = data_extractor(link)\n",
    "            # Summarize the data and append it to the list\n",
    "            result = chain.invoke(docs)\n",
    "            f.write(result[\"output_text\"])\n",
    "            f.write(\"\\n\\n\")\n",
    "    with open(\"summarised_text.txt\", \"r\") as s:\n",
    "        with open(\"summariser_prompt.txt\", \"r\") as f:\n",
    "            prompt_template2 = f.read()\n",
    "            prompt2 = PromptTemplate(input_variables=[\"input\"], template=prompt_template2)\n",
    "            chain2 = prompt2 | llm | StrOutputParser()\n",
    "            return chain2.invoke(s.read())"
   ]
  },
  {
   "cell_type": "markdown",
   "metadata": {},
   "source": [
    "## 2. Model Definition"
   ]
  },
  {
   "cell_type": "code",
   "execution_count": 180,
   "metadata": {},
   "outputs": [],
   "source": [
    "# Get the API key from the .env file\n",
    "import os\n",
    "from dotenv import load_dotenv\n",
    "\n",
    "load_dotenv()\n",
    "os.environ[\"LANGCHAIN_TRACING_V2\"] = \"True\""
   ]
  },
  {
   "cell_type": "markdown",
   "metadata": {},
   "source": [
    "## 3. Primary Chain"
   ]
  },
  {
   "cell_type": "code",
   "execution_count": 181,
   "metadata": {},
   "outputs": [],
   "source": [
    "from langchain.chains.summarize import load_summarize_chain\n",
    "from langchain_core.prompts import PromptTemplate\n",
    "from langchain_core.output_parsers import StrOutputParser\n",
    "from langchain_google_genai import ChatGoogleGenerativeAI\n",
    "from langchain.docstore.document import Document\n",
    "\n",
    "\n",
    "# Get the genres and moods according to the user browsing history\n",
    "\n",
    "def song_retrieve(links):\n",
    "    # Define a prompt\n",
    "    with open(\"prompt.txt\", \"r\") as f:\n",
    "        prompt_template = f.read()\n",
    "        prompt = PromptTemplate(input_variables=['data'], template=prompt_template)\n",
    "\n",
    "\n",
    "    # Load the chain\n",
    "    llm = ChatGoogleGenerativeAI(temperature=0, model=\"gemini-pro\")\n",
    "    chain = prompt | llm | StrOutputParser()\n",
    "\n",
    "\n",
    "    # Extract data from the link\n",
    "    data = sentiment(links)\n",
    "\n",
    "\n",
    "    # Run the chain\n",
    "    result = chain.invoke(data)\n",
    "\n",
    "    return result"
   ]
  },
  {
   "cell_type": "code",
   "execution_count": 182,
   "metadata": {},
   "outputs": [],
   "source": [
    "links = [\n",
    "    \"https://www.youtube.com/watch?v=l6ev1lGq0B4\",\n",
    "    \"https://www.reddit.com/r/AskReddit/comments/jdvj55/what_do_you_do_to_cheer_yourself_when_youre_sad/\",\n",
    "    \"https://www.reddit.com/r/AskReddit/comments/3aosor/redditors_who_are_feeling_a_bit_sad_right_now/\"\n",
    "]"
   ]
  },
  {
   "cell_type": "code",
   "execution_count": 183,
   "metadata": {},
   "outputs": [
    {
     "data": {
      "text/plain": [
       "'Sad'"
      ]
     },
     "execution_count": 183,
     "metadata": {},
     "output_type": "execute_result"
    }
   ],
   "source": [
    "song_retrieve(links)"
   ]
  }
 ],
 "metadata": {
  "kernelspec": {
   "display_name": "base",
   "language": "python",
   "name": "python3"
  },
  "language_info": {
   "codemirror_mode": {
    "name": "ipython",
    "version": 3
   },
   "file_extension": ".py",
   "mimetype": "text/x-python",
   "name": "python",
   "nbconvert_exporter": "python",
   "pygments_lexer": "ipython3",
   "version": "3.12.3"
  }
 },
 "nbformat": 4,
 "nbformat_minor": 2
}
