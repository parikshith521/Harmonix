{
 "cells": [
  {
   "cell_type": "markdown",
   "metadata": {},
   "source": [
    "# Spotify Mood Based Song Retreiver"
   ]
  },
  {
   "cell_type": "markdown",
   "metadata": {},
   "source": [
    "## 1. Getting and Cleaning the Data"
   ]
  },
  {
   "cell_type": "code",
   "execution_count": 1,
   "metadata": {},
   "outputs": [],
   "source": [
    "import requests as rq\n",
    "import bs4"
   ]
  },
  {
   "cell_type": "code",
   "execution_count": 6,
   "metadata": {},
   "outputs": [],
   "source": [
    "# Extract data from the link\n",
    "def data_extractor(link):\n",
    "    print(\"Retrieving body text and title text from:\", link)\n",
    "    res = rq.get(link)\n",
    "    soup = bs4.BeautifulSoup(res.text, 'lxml')\n",
    "    body = soup.find('body').text\n",
    "    title = soup.find('title').text\n",
    "    body = body.replace('\\n', ' ')[:4000] #Change this to change the amount of text extracted\n",
    "    return body, title"
   ]
  },
  {
   "cell_type": "markdown",
   "metadata": {},
   "source": [
    "# 2. Defining the API Key for the Model"
   ]
  },
  {
   "cell_type": "code",
   "execution_count": 28,
   "metadata": {},
   "outputs": [],
   "source": [
    "# Get the API key from the .env file\n",
    "import os\n",
    "from dotenv import load_dotenv\n",
    "\n",
    "load_dotenv()\n",
    "os.environ[\"LANGCHAIN_TRACING_V2\"] = \"True\""
   ]
  },
  {
   "cell_type": "markdown",
   "metadata": {},
   "source": [
    "# 3. Using the LLM to Obtain a Song based on the User Text"
   ]
  },
  {
   "cell_type": "code",
   "execution_count": 54,
   "metadata": {},
   "outputs": [],
   "source": [
    "from langchain_core.output_parsers import StrOutputParser\n",
    "from langchain_core.prompts import PromptTemplate\n",
    "from langchain_google_genai import ChatGoogleGenerativeAI\n",
    "from langchain.docstore.document import Document\n",
    "\n",
    "# Summarize the text\n",
    "def song_retrieve(link):\n",
    "    # Define a prompt\n",
    "    prompt_template = \"You are a song recommendations system. Based on the following text including the title and body of the article, understand the mood of the reader and generate exactly 1 song recommendation. Do not output any text apart from the name of the song and the artist. \\n\\nTitle: {title} \\n\\nBody: {body}\"\n",
    "    prompt = PromptTemplate(input_variables=[\"title\", \"body\"], template=prompt_template)\n",
    "\n",
    "    # Load the chain\n",
    "    llm = ChatGoogleGenerativeAI(temperature=0, model=\"gemini-pro\")\n",
    "    chain = prompt | llm | StrOutputParser()\n",
    "\n",
    "    # Extract data from the link\n",
    "    body, title = data_extractor(link)\n",
    "\n",
    "    # Run the chain\n",
    "    result = chain.invoke({\"title\": title, \"body\": body})\n",
    "\n",
    "    return result"
   ]
  },
  {
   "cell_type": "code",
   "execution_count": 56,
   "metadata": {},
   "outputs": [
    {
     "name": "stdout",
     "output_type": "stream",
     "text": [
      "Retrieving body text and title text from: https://www.reddit.com/r/depression/comments/ogvn4h/im_just_sad_im_just_so_fucking_sad/\n"
     ]
    },
    {
     "data": {
      "text/plain": [
       "'Sadness and Sorrow - Pink Floyd'"
      ]
     },
     "execution_count": 56,
     "metadata": {},
     "output_type": "execute_result"
    }
   ],
   "source": [
    "song_retrieve(\n",
    "    \"https://www.reddit.com/r/depression/comments/ogvn4h/im_just_sad_im_just_so_fucking_sad/\"\n",
    ")"
   ]
  },
  {
   "cell_type": "code",
   "execution_count": null,
   "metadata": {},
   "outputs": [],
   "source": []
  }
 ],
 "metadata": {
  "kernelspec": {
   "display_name": "base",
   "language": "python",
   "name": "python3"
  },
  "language_info": {
   "codemirror_mode": {
    "name": "ipython",
    "version": 3
   },
   "file_extension": ".py",
   "mimetype": "text/x-python",
   "name": "python",
   "nbconvert_exporter": "python",
   "pygments_lexer": "ipython3",
   "version": "3.12.3"
  }
 },
 "nbformat": 4,
 "nbformat_minor": 2
}
