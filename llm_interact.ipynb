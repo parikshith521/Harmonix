{
 "cells": [
  {
   "cell_type": "markdown",
   "metadata": {},
   "source": [
    "# Spotify Mood Based Song Retreiver"
   ]
  },
  {
   "cell_type": "markdown",
   "metadata": {},
   "source": [
    "## 1. Data Extraction and Processing"
   ]
  },
  {
   "cell_type": "code",
   "execution_count": 15,
   "metadata": {},
   "outputs": [],
   "source": [
    "import requests as rq\n",
    "import bs4"
   ]
  },
  {
   "cell_type": "code",
   "execution_count": 16,
   "metadata": {},
   "outputs": [],
   "source": [
    "# Extract data from the link - not being used currently\n",
    "# def data_extractor(link):\n",
    "#     print(\"Retrieving body text and title text from:\", link)\n",
    "#     res = rq.get(link)\n",
    "#     soup = bs4.BeautifulSoup(res.text, 'lxml')\n",
    "#     body = soup.find('body').text\n",
    "#     title = soup.find('title').text\n",
    "#     body = body.replace('\\n', ' ')[:4000] #Change this to change the amount of text extracted\n",
    "#     return body, title"
   ]
  },
  {
   "cell_type": "markdown",
   "metadata": {},
   "source": [
    "## 2. Model Definition"
   ]
  },
  {
   "cell_type": "code",
   "execution_count": 17,
   "metadata": {},
   "outputs": [],
   "source": [
    "# Get the API key from the .env file\n",
    "import os\n",
    "from dotenv import load_dotenv\n",
    "\n",
    "load_dotenv()\n",
    "os.environ[\"LANGCHAIN_TRACING_V2\"] = \"True\""
   ]
  },
  {
   "cell_type": "markdown",
   "metadata": {},
   "source": [
    "## 3. Primary Chain"
   ]
  },
  {
   "cell_type": "code",
   "execution_count": null,
   "metadata": {},
   "outputs": [],
   "source": []
  },
  {
   "cell_type": "code",
   "execution_count": 18,
   "metadata": {},
   "outputs": [],
   "source": [
    "from langchain_core.output_parsers import StrOutputParser\n",
    "from langchain_core.prompts import PromptTemplate\n",
    "from langchain_google_genai import ChatGoogleGenerativeAI\n",
    "from langchain.docstore.document import Document\n",
    "\n",
    "# Summarize the text\n",
    "def song_retrieve(link):\n",
    "    # Define a prompt\n",
    "    prompt_template = \"You are a sentiment analysis software. Based on the given title and link of the page the user is looking at, deduce what type of song the user would like to hear and give exactly 1 word - the genre, with no other output.\\n\\nTitle: {title} \\n\\nLink: {link}\"\n",
    "    prompt = PromptTemplate(input_variables=[\"title\", \"link\"], template=prompt_template)\n",
    "\n",
    "    # Load the chain\n",
    "    llm = ChatGoogleGenerativeAI(temperature=0, model=\"gemini-pro\")\n",
    "    chain = prompt | llm | StrOutputParser()\n",
    "\n",
    "    # Extract data from the link\n",
    "    body, title = data_extractor(link)\n",
    "\n",
    "    # Run the chain\n",
    "    result = chain.invoke({\"title\": title, \"link\": link})\n",
    "\n",
    "    return result"
   ]
  },
  {
   "cell_type": "code",
   "execution_count": 20,
   "metadata": {},
   "outputs": [
    {
     "name": "stdout",
     "output_type": "stream",
     "text": [
      "Retrieving body text and title text from: https://www.amazon.in/disco-lights/s?k=disco+lights\n"
     ]
    },
    {
     "data": {
      "text/plain": [
       "'Electronic'"
      ]
     },
     "execution_count": 20,
     "metadata": {},
     "output_type": "execute_result"
    }
   ],
   "source": [
    "song_retrieve(\"https://www.amazon.in/disco-lights/s?k=disco+lights\")"
   ]
  },
  {
   "cell_type": "code",
   "execution_count": null,
   "metadata": {},
   "outputs": [],
   "source": []
  },
  {
   "cell_type": "code",
   "execution_count": null,
   "metadata": {},
   "outputs": [],
   "source": []
  }
 ],
 "metadata": {
  "kernelspec": {
   "display_name": "base",
   "language": "python",
   "name": "python3"
  },
  "language_info": {
   "codemirror_mode": {
    "name": "ipython",
    "version": 3
   },
   "file_extension": ".py",
   "mimetype": "text/x-python",
   "name": "python",
   "nbconvert_exporter": "python",
   "pygments_lexer": "ipython3",
   "version": "3.12.3"
  }
 },
 "nbformat": 4,
 "nbformat_minor": 2
}
